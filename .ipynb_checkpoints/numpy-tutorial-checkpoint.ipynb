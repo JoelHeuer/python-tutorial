{
 "cells": [
  {
   "cell_type": "code",
   "execution_count": 10,
   "id": "1c658e60",
   "metadata": {},
   "outputs": [],
   "source": [
    "import numpy as np"
   ]
  },
  {
   "cell_type": "markdown",
   "id": "52134241",
   "metadata": {},
   "source": [
    "# About\n",
    "- numpy ist eine effizientere Alternativen als Pythons build-in arrays (slow)\n",
    "\n",
    "- effizienten Datenstrukturen:  Arrays & Matrizen\n",
    "- effiziente Operationen auf strukturen (create, filter, add, ...)\n",
    "\n",
    "\n",
    "-----------"
   ]
  },
  {
   "cell_type": "markdown",
   "id": "5ff24377",
   "metadata": {},
   "source": [
    "# 1. Basic Arrays"
   ]
  },
  {
   "cell_type": "markdown",
   "id": "09617829",
   "metadata": {},
   "source": [
    "### (a) creating arrays\n",
    "description"
   ]
  },
  {
   "cell_type": "code",
   "execution_count": 14,
   "id": "46d028bf",
   "metadata": {},
   "outputs": [
    {
     "data": {
      "text/plain": [
       "array([    1,    34, 53546,  4234])"
      ]
     },
     "execution_count": 14,
     "metadata": {},
     "output_type": "execute_result"
    }
   ],
   "source": [
    "a= np.array([1,34,53546,4234])\n",
    "a"
   ]
  },
  {
   "cell_type": "code",
   "execution_count": null,
   "id": "68f78026",
   "metadata": {},
   "outputs": [],
   "source": [
    "b = np.array([[9.0,8.0,7.0],[6.0,5.0,4.0]])\n",
    "print(b)"
   ]
  },
  {
   "cell_type": "markdown",
   "id": "039df2c1",
   "metadata": {},
   "source": [
    "### shape\n",
    "description"
   ]
  },
  {
   "cell_type": "code",
   "execution_count": null,
   "id": "46905528",
   "metadata": {},
   "outputs": [],
   "source": []
  },
  {
   "cell_type": "code",
   "execution_count": null,
   "id": "12d97f23",
   "metadata": {},
   "outputs": [],
   "source": []
  },
  {
   "cell_type": "markdown",
   "id": "32bb10ca",
   "metadata": {},
   "source": [
    "### size, data type\n",
    "description"
   ]
  },
  {
   "cell_type": "code",
   "execution_count": null,
   "id": "3847f2a6",
   "metadata": {},
   "outputs": [],
   "source": []
  },
  {
   "cell_type": "code",
   "execution_count": null,
   "id": "d81632d4",
   "metadata": {},
   "outputs": [],
   "source": []
  },
  {
   "cell_type": "markdown",
   "id": "b0c26efa",
   "metadata": {},
   "source": [
    "# 2. Matrices (Linear Algebra)"
   ]
  },
  {
   "cell_type": "code",
   "execution_count": null,
   "id": "2780da4f",
   "metadata": {},
   "outputs": [],
   "source": []
  },
  {
   "cell_type": "code",
   "execution_count": null,
   "id": "d977bc6d",
   "metadata": {},
   "outputs": [],
   "source": []
  },
  {
   "cell_type": "code",
   "execution_count": null,
   "id": "cbb56b6b",
   "metadata": {},
   "outputs": [],
   "source": []
  },
  {
   "cell_type": "code",
   "execution_count": null,
   "id": "2a824cfd",
   "metadata": {},
   "outputs": [],
   "source": []
  }
 ],
 "metadata": {
  "kernelspec": {
   "display_name": "Python 3 (ipykernel)",
   "language": "python",
   "name": "python3"
  },
  "language_info": {
   "codemirror_mode": {
    "name": "ipython",
    "version": 3
   },
   "file_extension": ".py",
   "mimetype": "text/x-python",
   "name": "python",
   "nbconvert_exporter": "python",
   "pygments_lexer": "ipython3",
   "version": "3.8.10"
  }
 },
 "nbformat": 4,
 "nbformat_minor": 5
}
