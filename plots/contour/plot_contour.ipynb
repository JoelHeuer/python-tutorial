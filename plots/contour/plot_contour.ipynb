{
 "cells": [
  {
   "cell_type": "markdown",
   "id": "37578ba2",
   "metadata": {},
   "source": [
    "## Credits"
   ]
  },
  {
   "cell_type": "markdown",
   "id": "ddec6c25",
   "metadata": {},
   "source": [
    "All credits to:\n",
    "- https://nipunbatra.github.io/blog/ml/2019/08/20/Gaussian-Processes.html"
   ]
  },
  {
   "cell_type": "markdown",
   "id": "80906240",
   "metadata": {},
   "source": [
    "## Code of Bivariate/2D Gaussian in 2D Space (Contour Plot)"
   ]
  },
  {
   "cell_type": "code",
   "execution_count": 13,
   "id": "808b7d4d",
   "metadata": {},
   "outputs": [],
   "source": [
    "import numpy as np\n",
    "import matplotlib.pyplot as plt\n",
    "\n",
    "\n",
    "from scipy.stats import multivariate_normal\n",
    "from mpl_toolkits.mplot3d import Axes3D\n",
    "from matplotlib import cm"
   ]
  },
  {
   "cell_type": "code",
   "execution_count": 18,
   "id": "1e95523d",
   "metadata": {},
   "outputs": [],
   "source": [
    "def plot_2d_contour_pdf(mu, sigma):\n",
    "    X = np.linspace(-3, 3, 60)\n",
    "    Y = np.linspace(-3, 4, 60)\n",
    "    X, Y = np.meshgrid(X, Y)\n",
    "\n",
    "    # Pack X and Y into a single 3-dimensional array\n",
    "    pos = np.empty(X.shape + (2,))\n",
    "    pos[:, :, 0] = X\n",
    "    pos[:, :, 1] = Y\n",
    "\n",
    "    F = multivariate_normal(mu, sigma)\n",
    "    Z = F.pdf(pos)\n",
    "    plt.xlabel(r\"$X_1$\")\n",
    "    plt.ylabel(r\"$X_2$\")\n",
    "    \n",
    "    plt.title(f'$\\mu$ = {mu}\\n $\\Sigma$ = {sigma}')\n",
    "    plt.contourf(X, Y, Z, cmap=cm.Greys)\n",
    "    plt.colorbar()"
   ]
  },
  {
   "cell_type": "code",
   "execution_count": 19,
   "id": "799c8c92",
   "metadata": {},
   "outputs": [
    {
     "data": {
      "image/png": "[encoded data removed]",
      "text/plain": [
       "<Figure size 432x288 with 2 Axes>"
      ]
     },
     "metadata": {
      "needs_background": "light"
     },
     "output_type": "display_data"
    }
   ],
   "source": [
    "mu = np.array([0., 0.])\n",
    "sigma = np.array([[ 1. , 0.5], [0.5,  1.]])\n",
    "plot_2d_contour_pdf(mu, sigma)"
   ]
  }
 ],
 "metadata": {
  "kernelspec": {
   "display_name": "Python 3 (ipykernel)",
   "language": "python",
   "name": "python3"
  },
  "language_info": {
   "codemirror_mode": {
    "name": "ipython",
    "version": 3
   },
   "file_extension": ".py",
   "mimetype": "text/x-python",
   "name": "python",
   "nbconvert_exporter": "python",
   "pygments_lexer": "ipython3",
   "version": "3.8.10"
  }
 },
 "nbformat": 4,
 "nbformat_minor": 5
}
